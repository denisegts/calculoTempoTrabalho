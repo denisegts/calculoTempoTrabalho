{
  "nbformat": 4,
  "nbformat_minor": 0,
  "metadata": {
    "colab": {
      "provenance": []
    },
    "kernelspec": {
      "name": "python3",
      "display_name": "Python 3"
    },
    "language_info": {
      "name": "python"
    }
  },
  "cells": [
    {
      "cell_type": "code",
      "execution_count": 2,
      "metadata": {
        "colab": {
          "base_uri": "https://localhost:8080/"
        },
        "id": "Ky224AbsRc-U",
        "outputId": "5360803f-0f4c-4bb5-993b-369d8b671cd5"
      },
      "outputs": [
        {
          "output_type": "stream",
          "name": "stdout",
          "text": [
            "Digite o número de processos de 5,91 minutos: 8\n",
            "Digite o número de processos de 7,59 minutos: 10\n",
            "Digite o número de processos de 0,85 minutos: 45\n",
            "\n",
            "O tempo total de trabalho é de 2 horas e 41 minutos.\n",
            "O tempo total de trabalho está dentro da jornada de 8 horas e 30 minutos.\n"
          ]
        }
      ],
      "source": [
        "# @title Texto de título padrão\n",
        "def calcular_tempo_trabalho(num_processos_5_91, num_processos_7_59, num_processos_0_85):\n",
        "  \"\"\"\n",
        "  Calcula o tempo total de trabalho em minutos, dado o número de processos de cada tipo.\n",
        "\n",
        "  Args:\n",
        "    num_processos_5_91: Número de processos de 5,91 minutos.\n",
        "    num_processos_7_59: Número de processos de 7,59 minutos.\n",
        "    num_processos_0_85: Número de processos de 0,85 minutos.\n",
        "\n",
        "  Returns:\n",
        "    O tempo total de trabalho em minutos.\n",
        "  \"\"\"\n",
        "  tempo_5_91 = num_processos_5_91 * 5.91\n",
        "  tempo_7_59 = num_processos_7_59 * 7.59\n",
        "  tempo_0_85 = num_processos_0_85 * 0.85\n",
        "  tempo_total = tempo_5_91 + tempo_7_59 + tempo_0_85\n",
        "  return tempo_total\n",
        "\n",
        "if __name__ == \"__main__\":\n",
        "  try:\n",
        "    num_5_91 = int(input(\"Digite o número de processos de 5,91 minutos: \"))\n",
        "    num_7_59 = int(input(\"Digite o número de processos de 7,59 minutos: \"))\n",
        "    num_0_85 = int(input(\"Digite o número de processos de 0,85 minutos: \"))\n",
        "\n",
        "    tempo_total_minutos = calcular_tempo_trabalho(num_5_91, num_7_59, num_0_85)\n",
        "    horas = int(tempo_total_minutos // 60)\n",
        "    minutos = int(tempo_total_minutos % 60)\n",
        "\n",
        "    print(f\"\\nO tempo total de trabalho é de {horas} horas e {minutos} minutos.\")\n",
        "\n",
        "    if tempo_total_minutos > 510:\n",
        "      print(\"O tempo total de trabalho excede a jornada de 8 horas e 30 minutos.\")\n",
        "    else:\n",
        "      print(\"O tempo total de trabalho está dentro da jornada de 8 horas e 30 minutos.\")\n",
        "\n",
        "  except ValueError:\n",
        "    print(\"Por favor, digite apenas números inteiros.\")"
      ]
    },
    {
      "cell_type": "code",
      "source": [],
      "metadata": {
        "id": "3dtBQyqAUfPR"
      },
      "execution_count": null,
      "outputs": []
    }
  ]
}